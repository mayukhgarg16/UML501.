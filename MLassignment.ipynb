{
 "cells": [
  {
   "cell_type": "code",
   "execution_count": 9,
   "id": "2ad0fd26-ca06-4d59-8e0b-22a952175e83",
   "metadata": {},
   "outputs": [
    {
     "name": "stdout",
     "output_type": "stream",
     "text": [
      "Original Array: [1 2 3 4 5]\n",
      "Reversed Array: [1 2 3 4 5]\n"
     ]
    }
   ],
   "source": [
    "import numpy as np\n",
    "\n",
    "arr = np.array([1, 2, 3, 4, 5])\n",
    "reversed_arr = arr[::-1]\n",
    "\n",
    "print(\"Original Array:\", arr)\n",
    "print(\"Reversed Array:\", reversed_arr)\n"
   ]
  },
  {
   "cell_type": "code",
   "execution_count": 15,
   "id": "08540731-2246-444e-8d22-f15fb2212af8",
   "metadata": {},
   "outputs": [
    {
     "name": "stdout",
     "output_type": "stream",
     "text": [
      "[1 2 3 2 3 4 1 2 3]\n",
      "[1 2 3 2 3 4 1 2 3]\n"
     ]
    }
   ],
   "source": [
    "import numpy as np \n",
    "arr=np.array([[1,2,3],[2,3,4],[1,2,3]])\n",
    "#method1\n",
    "flat=arr.flatten()\n",
    "print(flat)\n",
    "#method2\n",
    "flat2=arr.ravel()\n",
    "print(flat2)"
   ]
  },
  {
   "cell_type": "code",
   "execution_count": 23,
   "id": "38a6d364-6561-4ad9-a2ef-1ff4d0800196",
   "metadata": {},
   "outputs": [
    {
     "data": {
      "text/plain": [
       "True"
      ]
     },
     "execution_count": 23,
     "metadata": {},
     "output_type": "execute_result"
    }
   ],
   "source": [
    "import numpy as np \n",
    "arr1=np.array([[1,2],[3,4]])\n",
    "arr2=np.array([[1,2],[3,4]])\n",
    "#method1\n",
    "np.array_equal(arr1,arr2)\n",
    "#mehtod2\n",
    "np.allclose(arr1,arr2)"
   ]
  },
  {
   "cell_type": "code",
   "execution_count": 32,
   "id": "a4bb2d5c-476b-4f7e-9e1d-b3ccd5fad7e2",
   "metadata": {},
   "outputs": [
    {
     "name": "stdout",
     "output_type": "stream",
     "text": [
      "1\n",
      "[0 6 7 8]\n"
     ]
    }
   ],
   "source": [
    "import numpy as np \n",
    "arr=np.array([1,2,3,4,5,2,1,1,1])\n",
    "values,counts=np.unique(arr1,return_counts=True)\n",
    "most_frequent=values[np.argmax(counts)]\n",
    "indices=np.where(arr==most_frequent)[0]\n",
    "print(most_frequent)\n",
    "print(indices)"
   ]
  },
  {
   "cell_type": "code",
   "execution_count": 41,
   "id": "62e43875-44f7-47a4-a7ec-56afb2b625ab",
   "metadata": {},
   "outputs": [
    {
     "name": "stdout",
     "output_type": "stream",
     "text": [
      "1\n",
      "[0 1 2]\n"
     ]
    }
   ],
   "source": [
    "import numpy as np \n",
    "arr=np.array([1,1,1,2,3,4,2,4,3,3,3])\n",
    "values,counts=np.unique(arr1,return_counts=True)\n",
    "most_frequent=values[np.argmax(counts)]\n",
    "indices=np.where(arr==most_frequent)[0]\n",
    "print(most_frequent)\n",
    "print(indices)"
   ]
  },
  {
   "cell_type": "code",
   "execution_count": 6,
   "id": "bcb13ee5-324c-460d-80c6-37fd2700e2b3",
   "metadata": {},
   "outputs": [
    {
     "name": "stdout",
     "output_type": "stream",
     "text": [
      "35\n",
      "[[14]\n",
      " [ 6]\n",
      " [15]]\n",
      "[[ 9  8 18]]\n"
     ]
    }
   ],
   "source": [
    "import numpy as np \n",
    "gfg=np.matrix('[4,1,9;1,2,3;4,5,6]')\n",
    "total=gfg.sum()\n",
    "total_rows=gfg.sum(axis=1)\n",
    "total_cols=gfg.sum(axis=0)\n",
    "#i)\n",
    "print(total)\n",
    "#ii)\n",
    "print(total_rows)\n",
    "#iii)\n",
    "print(total_cols)"
   ]
  },
  {
   "cell_type": "code",
   "execution_count": 8,
   "id": "db495287-93f6-4c6f-9c7e-208328075499",
   "metadata": {},
   "outputs": [
    {
     "name": "stdout",
     "output_type": "stream",
     "text": [
      "176\n",
      "[98.16835147 28.097044   49.73460452]\n",
      "[[ 0.4574917   0.34637121 -0.15017693]\n",
      " [ 0.28447814 -0.72784061 -0.4852124 ]\n",
      " [ 0.84248058  0.59184038  0.8614034 ]]\n",
      "137180.0000000001\n"
     ]
    }
   ],
   "source": [
    "import numpy as np \n",
    "arr=np.array([[55,25,15],[30,44,2],[11,45,77]])\n",
    "diag_sum=np.trace(arr)\n",
    "eigenvalues,eigenvectors=np.linalg.eig(arr)\n",
    "determinant=np.linalg.det(arr)\n",
    "print(diag_sum)\n",
    "print(eigenvalues)\n",
    "print(eigenvectors)\n",
    "print(determinant)"
   ]
  },
  {
   "cell_type": "code",
   "execution_count": 14,
   "id": "730fff4a-7c8b-419c-8246-fc77ad570b67",
   "metadata": {},
   "outputs": [
    {
     "name": "stdout",
     "output_type": "stream",
     "text": [
      "[[16 19]\n",
      " [26 31]]\n",
      "[[0.5 0.5]\n",
      " [0.5 0.5]]\n",
      "[[2. 2.]\n",
      " [2. 2.]]\n"
     ]
    }
   ],
   "source": [
    "import numpy as np \n",
    "p1=np.array([[1,2],[2,3]])\n",
    "p2=np.array([[4,5],[6,7]])\n",
    "product=np.dot(p1,p2)\n",
    "cov1=np.cov(p1.T)\n",
    "cov2=np.cov(p2.T)\n",
    "print(product)\n",
    "print(cov1)\n",
    "print(cov2)\n"
   ]
  },
  {
   "cell_type": "code",
   "execution_count": 16,
   "id": "772731b2-201c-4cf7-9d3f-07e0c26127d5",
   "metadata": {},
   "outputs": [
    {
     "name": "stdout",
     "output_type": "stream",
     "text": [
      "[[17 52]\n",
      " [13 62]]\n",
      "[[ 2 10  0 10 20  6]\n",
      " [ 3 15  0 15 30  9]\n",
      " [ 4 20  0 20 40 12]\n",
      " [ 3 15  0 15 30  9]\n",
      " [ 2 10  0 10 20  6]\n",
      " [ 9 45  0 45 90 27]]\n",
      "[[ 2  1]\n",
      " [ 2  5]\n",
      " [ 2  0]\n",
      " [ 2  5]\n",
      " [ 2 10]\n",
      " [ 2  3]\n",
      " [ 3  1]\n",
      " [ 3  5]\n",
      " [ 3  0]\n",
      " [ 3  5]\n",
      " [ 3 10]\n",
      " [ 3  3]\n",
      " [ 4  1]\n",
      " [ 4  5]\n",
      " [ 4  0]\n",
      " [ 4  5]\n",
      " [ 4 10]\n",
      " [ 4  3]\n",
      " [ 3  1]\n",
      " [ 3  5]\n",
      " [ 3  0]\n",
      " [ 3  5]\n",
      " [ 3 10]\n",
      " [ 3  3]\n",
      " [ 2  1]\n",
      " [ 2  5]\n",
      " [ 2  0]\n",
      " [ 2  5]\n",
      " [ 2 10]\n",
      " [ 2  3]\n",
      " [ 9  1]\n",
      " [ 9  5]\n",
      " [ 9  0]\n",
      " [ 9  5]\n",
      " [ 9 10]\n",
      " [ 9  3]]\n"
     ]
    }
   ],
   "source": [
    "import numpy as np \n",
    "x=np.array([[2,3,4],[3,2,9]])\n",
    "y=np.array([[1,5,0],[5,10,3]])\n",
    "inner=np.inner(x,y)\n",
    "outer=np.outer(x,y)\n",
    "cartesian=np.array(np.meshgrid(x.flatten(),y.flatten())).T.reshape(-1,2)\n",
    "print(inner)\n",
    "print(outer)\n",
    "print(cartesian)"
   ]
  },
  {
   "cell_type": "code",
   "execution_count": 39,
   "id": "5eb42263-780d-450d-a252-d981dbce2fd4",
   "metadata": {},
   "outputs": [
    {
     "name": "stdout",
     "output_type": "stream",
     "text": [
      "[[1 2 3]\n",
      " [4 5 6]]\n",
      "[ 1  2 -3 -4  5  6]\n",
      "25th percentile is -2.0\n",
      "50th percentile is 1.5\n",
      "75th percentile is 4.25\n",
      "percentiles by collumn are -2.0 1.5 4.25\n",
      "-2.0 1.5 4.25\n"
     ]
    }
   ],
   "source": [
    "import numpy as np \n",
    "arr=np.array([[1,2,-3],[-4,5,6]])\n",
    "#i\n",
    "abs_arr=np.abs(arr)\n",
    "print(abs_arr)\n",
    "#ii\n",
    "flat=arr.flatten()\n",
    "print(flat)\n",
    "p_25=np.percentile(flat,25)\n",
    "print(\"25th percentile is\",p_25)\n",
    "p_50=np.percentile(flat,50)\n",
    "print(\"50th percentile is\",p_50)\n",
    "p_75=np.percentile(flat,75)\n",
    "print(\"75th percentile is\",p_75)\n",
    "p_25col=np.percentile(arr,25,axis=0)\n",
    "p_50col=np.percentile(arr,50,axis=0)\n",
    "p_75col=np.percentile(arr,75,axis=0)\n",
    "print(\"percentiles by collumn are\",p_25,p_50,p_75)\n",
    "p_25row=np.percentile(arr,25,axis=1)\n",
    "p_50row=np.percentile(arr,50,axis=1)\n",
    "p_75row=np.percentile(arr,75,axis=1)\n",
    "print(p_25,p_50,p_75)\n"
   ]
  },
  {
   "cell_type": "code",
   "execution_count": 49,
   "id": "1e938c97-6f42-4c31-94c7-d4ed7fb25c1e",
   "metadata": {},
   "outputs": [
    {
     "name": "stdout",
     "output_type": "stream",
     "text": [
      "0.5\n",
      "-0.5\n",
      "3.8622100754188224\n",
      "[-1.5  1.5  1.5]\n",
      "[-1.5  1.5  1.5]\n",
      "[2.5 3.5 4.5]\n",
      "[-2.  5.]\n",
      "[-1.33333333  2.33333333]\n",
      "[1.69967317 4.49691252]\n"
     ]
    }
   ],
   "source": [
    "import numpy as np \n",
    "arr=np.array([[1,-2,-3],[-4,5,6]])\n",
    "mean_flat = np.mean(arr)   \n",
    "med_flat = np.median(arr) \n",
    "std_flat = np.std(arr)     \n",
    "print(mean_flat)\n",
    "print(med_flat)\n",
    "print(std_flat)\n",
    "#for collumns\n",
    "med_col=np.median(arr,axis=0)\n",
    "mean_col=np.mean(arr,axis=0)\n",
    "std_col=np.std(arr,axis=0)\n",
    "print(med_col)\n",
    "print(mean_col)\n",
    "print(std_col)\n",
    "#for rows\n",
    "med_row=np.median(arr,axis=1)\n",
    "mean_row=np.mean(arr,axis=1)\n",
    "std_row=np.std(arr,axis=1)\n",
    "print(med_row)\n",
    "print(mean_row)\n",
    "print(std_row)"
   ]
  },
  {
   "cell_type": "code",
   "execution_count": 55,
   "id": "2af3b971-033a-4cb9-bb96-a664dee89f07",
   "metadata": {},
   "outputs": [
    {
     "name": "stdout",
     "output_type": "stream",
     "text": [
      "[-2. -2. -1.  0.  1.  1.  3.]\n",
      "[-1. -1. -0.  1.  2.  2.  3.]\n",
      "[-1. -1. -0.  0.  1.  1.  3.]\n",
      "[-2. -2. -0.  0.  2.  2.  3.]\n"
     ]
    }
   ],
   "source": [
    "import numpy as np \n",
    "a=np.array([-1.8,-1.6,-0.5,0.5,1.6,1.8,3.0])\n",
    "floor=np.floor(a)\n",
    "ceil=np.ceil(a)\n",
    "truncate=np.trunc(a)\n",
    "round=np.round(a)\n",
    "print(floor)\n",
    "print(ceil)\n",
    "print(truncate)\n",
    "print(round)"
   ]
  },
  {
   "cell_type": "code",
   "execution_count": 59,
   "id": "3e54c954-2230-4bf3-aae1-e749236f371f",
   "metadata": {},
   "outputs": [
    {
     "name": "stdout",
     "output_type": "stream",
     "text": [
      "[ 10  52  62  16  16  54 453]\n",
      "[0 3 4 1 5 2 6]\n",
      "[10 16 16 52]\n",
      "[ 16  52  54  62 453]\n"
     ]
    }
   ],
   "source": [
    "#ques 3 \n",
    "#a)\n",
    "import numpy as np \n",
    "a=np.array([10,52,62,16,16,54,453])\n",
    "#i)\n",
    "sorted=np.sort(a)\n",
    "print(a)\n",
    "#ii)\n",
    "indices=np.argsort(a)\n",
    "print(indices)\n",
    "#iii)\n",
    "lowest4=np.sort(a)[ :4]\n",
    "print(lowest4)\n",
    "#iv)\n",
    "highest5=np.sort(a)[-5: ]\n",
    "print(highest5)"
   ]
  },
  {
   "cell_type": "code",
   "execution_count": 93,
   "id": "88859b16-871e-4088-9923-6368b4cf90c9",
   "metadata": {},
   "outputs": [
    {
     "name": "stdout",
     "output_type": "stream",
     "text": [
      "[1. 2. 3. 2.]\n",
      "[1.2 2.2]\n"
     ]
    }
   ],
   "source": [
    "import numpy as np\n",
    "\n",
    "a = np.array([1.0, 1.2, 2.2, 2.0, 3.0, 2.0])\n",
    "int_elements = a[a == np.floor(a)]\n",
    "print( int_elements)\n",
    "float=a[a!=np.floor(a)]\n",
    "print(float)\n"
   ]
  },
  {
   "cell_type": "code",
   "execution_count": null,
   "id": "9661f1de-559c-4be2-b50f-08172cc693ba",
   "metadata": {},
   "outputs": [],
   "source": []
  },
  {
   "cell_type": "code",
   "execution_count": null,
   "id": "001dcfaf-f4d8-4d48-a8bf-cff83ce71136",
   "metadata": {},
   "outputs": [],
   "source": []
  },
  {
   "cell_type": "code",
   "execution_count": null,
   "id": "7a509fee-c936-4de9-9a44-15002e013ad8",
   "metadata": {},
   "outputs": [],
   "source": []
  }
 ],
 "metadata": {
  "kernelspec": {
   "display_name": "Python (mayukh)",
   "language": "python",
   "name": "mayukh"
  },
  "language_info": {
   "codemirror_mode": {
    "name": "ipython",
    "version": 3
   },
   "file_extension": ".py",
   "mimetype": "text/x-python",
   "name": "python",
   "nbconvert_exporter": "python",
   "pygments_lexer": "ipython3",
   "version": "3.10.16"
  }
 },
 "nbformat": 4,
 "nbformat_minor": 5
}
