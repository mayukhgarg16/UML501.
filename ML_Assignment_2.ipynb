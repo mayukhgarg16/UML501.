{
  "metadata": {
    "kernelspec": {
      "name": "python",
      "display_name": "Python (Pyodide)",
      "language": "python"
    },
    "language_info": {
      "codemirror_mode": {
        "name": "python",
        "version": 3
      },
      "file_extension": ".py",
      "mimetype": "text/x-python",
      "name": "python",
      "nbconvert_exporter": "python",
      "pygments_lexer": "ipython3",
      "version": "3.8"
    }
  },
  "nbformat_minor": 5,
  "nbformat": 4,
  "cells": [
    {
      "id": "c87044c4-52cb-46bb-b3fc-90366e6cdd48",
      "cell_type": "markdown",
      "source": "ML Assignment 2",
      "metadata": {}
    },
    {
      "id": "deed1e04-f46a-4e98-badc-3de86594f14b",
      "cell_type": "markdown",
      "source": "Part I: Based on Feature Selection, Cleaning, and Preprocessing to Construct an Input from Data \nSource ",
      "metadata": {}
    },
    {
      "id": "ee922a72-b3bb-4b78-a2fe-d5a203fec574",
      "cell_type": "raw",
      "source": "(a) Examine the values of each attribute and select a set of attributes only that would affect to prediction of future bike buyers to create your input for data mining algorithms. Remove all the unnecessary attributes. (Select features just by analysis). ",
      "metadata": {}
    },
    {
      "id": "4c793320-01ce-43ce-81b3-2bfbf37d4a11",
      "cell_type": "code",
      "source": "import pandas as pd\ndata= pd.read_csv(\"data/AWCustomers.csv\")",
      "metadata": {
        "trusted": true
      },
      "outputs": [],
      "execution_count": 1
    },
    {
      "id": "7e08f65c-2361-41ed-9c5b-883015e89dd9",
      "cell_type": "code",
      "source": "data.columns",
      "metadata": {
        "trusted": true
      },
      "outputs": [
        {
          "execution_count": 5,
          "output_type": "execute_result",
          "data": {
            "text/plain": "Index(['CustomerID', 'Title', 'FirstName', 'MiddleName', 'LastName', 'Suffix',\n       'AddressLine1', 'AddressLine2', 'City', 'StateProvinceName',\n       'CountryRegionName', 'PostalCode', 'PhoneNumber', 'BirthDate',\n       'Education', 'Occupation', 'Gender', 'MaritalStatus', 'HomeOwnerFlag',\n       'NumberCarsOwned', 'NumberChildrenAtHome', 'TotalChildren',\n       'YearlyIncome', 'LastUpdated'],\n      dtype='object')"
          },
          "metadata": {}
        }
      ],
      "execution_count": 5
    },
    {
      "id": "829cdb92-e123-4d3d-af01-977b1cffd1a9",
      "cell_type": "code",
      "source": "data.head(10)",
      "metadata": {
        "trusted": true
      },
      "outputs": [
        {
          "execution_count": 6,
          "output_type": "execute_result",
          "data": {
            "text/plain": "   CustomerID Title FirstName MiddleName  LastName Suffix  \\\n0       21173   NaN      Chad          C      Yuan    NaN   \n1       13249   NaN      Ryan        NaN     Perry    NaN   \n2       29350   NaN     Julia        NaN  Thompson    NaN   \n3       13503   NaN  Theodore        NaN     Gomez    NaN   \n4       22803   NaN  Marshall          J      Shan    NaN   \n5       22092   NaN    Andrea        NaN     Young    NaN   \n6       11229   NaN    Adrian          C   Stewart    NaN   \n7       24179   NaN     Robyn          R    Blanco    NaN   \n8       12127   NaN     Grace        NaN     Davis    NaN   \n9       19903   NaN    Marcus          N    Nelson    NaN   \n\n             AddressLine1 AddressLine2          City    StateProvinceName  \\\n0      7090 C. Mount Hood          NaN    Wollongong      New South Wales   \n1     3651 Willow Lake Rd          NaN       Shawnee     British Columbia   \n2  1774 Tice Valley Blvd.          NaN   West Covina           California   \n3         2103 Baldwin Dr          NaN     Liverpool              England   \n4         Am Gallberg 234          NaN         Werne  Nordrhein-Westfalen   \n5       9384 Ashmount Way          NaN        Tacoma           Washington   \n6           6898 Shaw Rd.          NaN  Redwood City           California   \n7      6270 Pinecreek Way          NaN  Lavender Bay      New South Wales   \n8       8188, rue Lamarck          NaN     Dunkerque                 Nord   \n9     5, rue des Bouchers          NaN          Metz              Moselle   \n\n   ...        Education      Occupation Gender MaritalStatus HomeOwnerFlag  \\\n0  ...        Bachelors        Clerical      M             M             1   \n1  ...  Partial College        Clerical      M             M             1   \n2  ...        Bachelors        Clerical      F             S             0   \n3  ...  Partial College  Skilled Manual      M             M             1   \n4  ...  Partial College  Skilled Manual      M             S             1   \n5  ...      High School  Skilled Manual      F             M             1   \n6  ...  Partial College          Manual      M             S             1   \n7  ...  Partial College  Skilled Manual      F             M             0   \n8  ...  Partial College        Clerical      F             M             1   \n9  ...      High School          Manual      M             S             0   \n\n  NumberCarsOwned NumberChildrenAtHome TotalChildren  YearlyIncome  \\\n0               3                    0             1         81916   \n1               2                    1             2         81076   \n2               3                    0             0         86387   \n3               2                    1             2         61481   \n4               1                    0             0         51804   \n5               2                    2             2         61944   \n6               1                    0             0         34919   \n7               1                    0             0         61832   \n8               0                    0             2         83834   \n9               1                    0             0         26880   \n\n   LastUpdated  \n0   2017-03-06  \n1   2017-03-06  \n2   2017-03-06  \n3   2017-03-06  \n4   2017-03-06  \n5   2017-03-06  \n6   2017-03-06  \n7   2017-03-06  \n8   2017-03-06  \n9   2017-03-06  \n\n[10 rows x 24 columns]",
            "text/html": "<div>\n<style scoped>\n    .dataframe tbody tr th:only-of-type {\n        vertical-align: middle;\n    }\n\n    .dataframe tbody tr th {\n        vertical-align: top;\n    }\n\n    .dataframe thead th {\n        text-align: right;\n    }\n</style>\n<table border=\"1\" class=\"dataframe\">\n  <thead>\n    <tr style=\"text-align: right;\">\n      <th></th>\n      <th>CustomerID</th>\n      <th>Title</th>\n      <th>FirstName</th>\n      <th>MiddleName</th>\n      <th>LastName</th>\n      <th>Suffix</th>\n      <th>AddressLine1</th>\n      <th>AddressLine2</th>\n      <th>City</th>\n      <th>StateProvinceName</th>\n      <th>...</th>\n      <th>Education</th>\n      <th>Occupation</th>\n      <th>Gender</th>\n      <th>MaritalStatus</th>\n      <th>HomeOwnerFlag</th>\n      <th>NumberCarsOwned</th>\n      <th>NumberChildrenAtHome</th>\n      <th>TotalChildren</th>\n      <th>YearlyIncome</th>\n      <th>LastUpdated</th>\n    </tr>\n  </thead>\n  <tbody>\n    <tr>\n      <th>0</th>\n      <td>21173</td>\n      <td>NaN</td>\n      <td>Chad</td>\n      <td>C</td>\n      <td>Yuan</td>\n      <td>NaN</td>\n      <td>7090 C. Mount Hood</td>\n      <td>NaN</td>\n      <td>Wollongong</td>\n      <td>New South Wales</td>\n      <td>...</td>\n      <td>Bachelors</td>\n      <td>Clerical</td>\n      <td>M</td>\n      <td>M</td>\n      <td>1</td>\n      <td>3</td>\n      <td>0</td>\n      <td>1</td>\n      <td>81916</td>\n      <td>2017-03-06</td>\n    </tr>\n    <tr>\n      <th>1</th>\n      <td>13249</td>\n      <td>NaN</td>\n      <td>Ryan</td>\n      <td>NaN</td>\n      <td>Perry</td>\n      <td>NaN</td>\n      <td>3651 Willow Lake Rd</td>\n      <td>NaN</td>\n      <td>Shawnee</td>\n      <td>British Columbia</td>\n      <td>...</td>\n      <td>Partial College</td>\n      <td>Clerical</td>\n      <td>M</td>\n      <td>M</td>\n      <td>1</td>\n      <td>2</td>\n      <td>1</td>\n      <td>2</td>\n      <td>81076</td>\n      <td>2017-03-06</td>\n    </tr>\n    <tr>\n      <th>2</th>\n      <td>29350</td>\n      <td>NaN</td>\n      <td>Julia</td>\n      <td>NaN</td>\n      <td>Thompson</td>\n      <td>NaN</td>\n      <td>1774 Tice Valley Blvd.</td>\n      <td>NaN</td>\n      <td>West Covina</td>\n      <td>California</td>\n      <td>...</td>\n      <td>Bachelors</td>\n      <td>Clerical</td>\n      <td>F</td>\n      <td>S</td>\n      <td>0</td>\n      <td>3</td>\n      <td>0</td>\n      <td>0</td>\n      <td>86387</td>\n      <td>2017-03-06</td>\n    </tr>\n    <tr>\n      <th>3</th>\n      <td>13503</td>\n      <td>NaN</td>\n      <td>Theodore</td>\n      <td>NaN</td>\n      <td>Gomez</td>\n      <td>NaN</td>\n      <td>2103 Baldwin Dr</td>\n      <td>NaN</td>\n      <td>Liverpool</td>\n      <td>England</td>\n      <td>...</td>\n      <td>Partial College</td>\n      <td>Skilled Manual</td>\n      <td>M</td>\n      <td>M</td>\n      <td>1</td>\n      <td>2</td>\n      <td>1</td>\n      <td>2</td>\n      <td>61481</td>\n      <td>2017-03-06</td>\n    </tr>\n    <tr>\n      <th>4</th>\n      <td>22803</td>\n      <td>NaN</td>\n      <td>Marshall</td>\n      <td>J</td>\n      <td>Shan</td>\n      <td>NaN</td>\n      <td>Am Gallberg 234</td>\n      <td>NaN</td>\n      <td>Werne</td>\n      <td>Nordrhein-Westfalen</td>\n      <td>...</td>\n      <td>Partial College</td>\n      <td>Skilled Manual</td>\n      <td>M</td>\n      <td>S</td>\n      <td>1</td>\n      <td>1</td>\n      <td>0</td>\n      <td>0</td>\n      <td>51804</td>\n      <td>2017-03-06</td>\n    </tr>\n    <tr>\n      <th>5</th>\n      <td>22092</td>\n      <td>NaN</td>\n      <td>Andrea</td>\n      <td>NaN</td>\n      <td>Young</td>\n      <td>NaN</td>\n      <td>9384 Ashmount Way</td>\n      <td>NaN</td>\n      <td>Tacoma</td>\n      <td>Washington</td>\n      <td>...</td>\n      <td>High School</td>\n      <td>Skilled Manual</td>\n      <td>F</td>\n      <td>M</td>\n      <td>1</td>\n      <td>2</td>\n      <td>2</td>\n      <td>2</td>\n      <td>61944</td>\n      <td>2017-03-06</td>\n    </tr>\n    <tr>\n      <th>6</th>\n      <td>11229</td>\n      <td>NaN</td>\n      <td>Adrian</td>\n      <td>C</td>\n      <td>Stewart</td>\n      <td>NaN</td>\n      <td>6898 Shaw Rd.</td>\n      <td>NaN</td>\n      <td>Redwood City</td>\n      <td>California</td>\n      <td>...</td>\n      <td>Partial College</td>\n      <td>Manual</td>\n      <td>M</td>\n      <td>S</td>\n      <td>1</td>\n      <td>1</td>\n      <td>0</td>\n      <td>0</td>\n      <td>34919</td>\n      <td>2017-03-06</td>\n    </tr>\n    <tr>\n      <th>7</th>\n      <td>24179</td>\n      <td>NaN</td>\n      <td>Robyn</td>\n      <td>R</td>\n      <td>Blanco</td>\n      <td>NaN</td>\n      <td>6270 Pinecreek Way</td>\n      <td>NaN</td>\n      <td>Lavender Bay</td>\n      <td>New South Wales</td>\n      <td>...</td>\n      <td>Partial College</td>\n      <td>Skilled Manual</td>\n      <td>F</td>\n      <td>M</td>\n      <td>0</td>\n      <td>1</td>\n      <td>0</td>\n      <td>0</td>\n      <td>61832</td>\n      <td>2017-03-06</td>\n    </tr>\n    <tr>\n      <th>8</th>\n      <td>12127</td>\n      <td>NaN</td>\n      <td>Grace</td>\n      <td>NaN</td>\n      <td>Davis</td>\n      <td>NaN</td>\n      <td>8188, rue Lamarck</td>\n      <td>NaN</td>\n      <td>Dunkerque</td>\n      <td>Nord</td>\n      <td>...</td>\n      <td>Partial College</td>\n      <td>Clerical</td>\n      <td>F</td>\n      <td>M</td>\n      <td>1</td>\n      <td>0</td>\n      <td>0</td>\n      <td>2</td>\n      <td>83834</td>\n      <td>2017-03-06</td>\n    </tr>\n    <tr>\n      <th>9</th>\n      <td>19903</td>\n      <td>NaN</td>\n      <td>Marcus</td>\n      <td>N</td>\n      <td>Nelson</td>\n      <td>NaN</td>\n      <td>5, rue des Bouchers</td>\n      <td>NaN</td>\n      <td>Metz</td>\n      <td>Moselle</td>\n      <td>...</td>\n      <td>High School</td>\n      <td>Manual</td>\n      <td>M</td>\n      <td>S</td>\n      <td>0</td>\n      <td>1</td>\n      <td>0</td>\n      <td>0</td>\n      <td>26880</td>\n      <td>2017-03-06</td>\n    </tr>\n  </tbody>\n</table>\n<p>10 rows × 24 columns</p>\n</div>"
          },
          "metadata": {}
        }
      ],
      "execution_count": 6
    },
    {
      "id": "69b09369-f12f-441d-be12-e246db85749f",
      "cell_type": "code",
      "source": "selected_columns = ['City', 'Education', 'Occupation', 'MaritalStatus','HomeOwnerFlag', 'NumberCarsOwned', 'YearlyIncome']\n",
      "metadata": {
        "trusted": true
      },
      "outputs": [],
      "execution_count": 12
    },
    {
      "id": "1ca3dff4-46c1-41da-9372-574f896949a8",
      "cell_type": "markdown",
      "source": "(b)Create a new Data Frame with the selected attributes only.",
      "metadata": {}
    },
    {
      "id": "0361ef8a-79f7-4749-933a-1126f51f18d7",
      "cell_type": "code",
      "source": "data_selected = data[selected_columns]\ndata_selected.head()",
      "metadata": {
        "trusted": true
      },
      "outputs": [
        {
          "execution_count": 13,
          "output_type": "execute_result",
          "data": {
            "text/plain": "          City        Education      Occupation MaritalStatus  HomeOwnerFlag  \\\n0   Wollongong        Bachelors        Clerical             M              1   \n1      Shawnee  Partial College        Clerical             M              1   \n2  West Covina        Bachelors        Clerical             S              0   \n3    Liverpool  Partial College  Skilled Manual             M              1   \n4        Werne  Partial College  Skilled Manual             S              1   \n\n   NumberCarsOwned  YearlyIncome  \n0                3         81916  \n1                2         81076  \n2                3         86387  \n3                2         61481  \n4                1         51804  ",
            "text/html": "<div>\n<style scoped>\n    .dataframe tbody tr th:only-of-type {\n        vertical-align: middle;\n    }\n\n    .dataframe tbody tr th {\n        vertical-align: top;\n    }\n\n    .dataframe thead th {\n        text-align: right;\n    }\n</style>\n<table border=\"1\" class=\"dataframe\">\n  <thead>\n    <tr style=\"text-align: right;\">\n      <th></th>\n      <th>City</th>\n      <th>Education</th>\n      <th>Occupation</th>\n      <th>MaritalStatus</th>\n      <th>HomeOwnerFlag</th>\n      <th>NumberCarsOwned</th>\n      <th>YearlyIncome</th>\n    </tr>\n  </thead>\n  <tbody>\n    <tr>\n      <th>0</th>\n      <td>Wollongong</td>\n      <td>Bachelors</td>\n      <td>Clerical</td>\n      <td>M</td>\n      <td>1</td>\n      <td>3</td>\n      <td>81916</td>\n    </tr>\n    <tr>\n      <th>1</th>\n      <td>Shawnee</td>\n      <td>Partial College</td>\n      <td>Clerical</td>\n      <td>M</td>\n      <td>1</td>\n      <td>2</td>\n      <td>81076</td>\n    </tr>\n    <tr>\n      <th>2</th>\n      <td>West Covina</td>\n      <td>Bachelors</td>\n      <td>Clerical</td>\n      <td>S</td>\n      <td>0</td>\n      <td>3</td>\n      <td>86387</td>\n    </tr>\n    <tr>\n      <th>3</th>\n      <td>Liverpool</td>\n      <td>Partial College</td>\n      <td>Skilled Manual</td>\n      <td>M</td>\n      <td>1</td>\n      <td>2</td>\n      <td>61481</td>\n    </tr>\n    <tr>\n      <th>4</th>\n      <td>Werne</td>\n      <td>Partial College</td>\n      <td>Skilled Manual</td>\n      <td>S</td>\n      <td>1</td>\n      <td>1</td>\n      <td>51804</td>\n    </tr>\n  </tbody>\n</table>\n</div>"
          },
          "metadata": {}
        }
      ],
      "execution_count": 13
    },
    {
      "id": "307fa181-aa26-4b3e-b485-7e217e1e10c9",
      "cell_type": "markdown",
      "source": "(c) Determine a Data value type (Discrete, or Continuous, then Nominal, Ordinal, Interval, Ratio) of each attribute in your selection to identify preprocessing tasks to create input for your data mining. ",
      "metadata": {}
    },
    {
      "id": "19ed68c4-c969-4162-8171-ee87a03ea2f6",
      "cell_type": "code",
      "source": "print(data_selected.dtypes)",
      "metadata": {
        "trusted": true
      },
      "outputs": [
        {
          "name": "stdout",
          "output_type": "stream",
          "text": "City               object\nEducation          object\nOccupation         object\nMaritalStatus      object\nHomeOwnerFlag       int64\nNumberCarsOwned     int64\nYearlyIncome        int64\ndtype: object\n"
        }
      ],
      "execution_count": 16
    },
    {
      "id": "2aef7f94-0609-4ae2-b03e-995bfb625fb0",
      "cell_type": "raw",
      "source": "City: Discrete, Nominal\nEducation: Discrete, Ordinal\nOccupation: Discrete, Nominal\nMaritalStatus: Discrete, Nominal\nHouseOwnerFlag: Discrete, Nominal\nNumberCarsOwned: Discrete, Ratio\nYearlyIncome: Continuous, Ratio",
      "metadata": {}
    },
    {
      "id": "79148f0d-c9d2-4872-ad91-e7006324695f",
      "cell_type": "markdown",
      "source": "Part II: Data Preprocessing and Transformation ",
      "metadata": {}
    },
    {
      "id": "2426c5af-8ac9-4d9b-b160-02fdb8d7127b",
      "cell_type": "raw",
      "source": "(a) Handling Null values //no null values exist :)",
      "metadata": {}
    },
    {
      "id": "ded1f1e7-9f24-4ecc-bd4d-46b7b811c559",
      "cell_type": "code",
      "source": "from sklearn.preprocessing import OrdinalEncoder, StandardScaler, KBinsDiscretizer",
      "metadata": {
        "trusted": true
      },
      "outputs": [],
      "execution_count": 19
    },
    {
      "id": "f0a3da76-460a-4670-8c06-ecb19f7c1668",
      "cell_type": "code",
      "source": "print(data_selected.isnull().sum())",
      "metadata": {
        "trusted": true
      },
      "outputs": [
        {
          "name": "stdout",
          "output_type": "stream",
          "text": "City               0\nEducation          0\nOccupation         0\nMaritalStatus      0\nHomeOwnerFlag      0\nNumberCarsOwned    0\nYearlyIncome       0\ndtype: int64\n"
        }
      ],
      "execution_count": 20
    },
    {
      "id": "efa22437-507c-4be8-a41a-19c50d699995",
      "cell_type": "raw",
      "source": "(b) Normalization",
      "metadata": {}
    },
    {
      "id": "0f0f2094-43ef-45c9-8f1f-7b9ec1068c2c",
      "cell_type": "code",
      "source": "data_selected = data[selected_columns].copy()\nfrom sklearn.preprocessing import MinMaxScaler\n\nnumeric_features = ['NumberCarsOwned', 'YearlyIncome']\nscaler = MinMaxScaler()\ndata_selected[numeric_features] = scaler.fit_transform(data_selected[numeric_features])",
      "metadata": {
        "trusted": true
      },
      "outputs": [],
      "execution_count": 22
    },
    {
      "id": "44a32f7b-e3d9-47fd-b71e-830f5c4d8cf4",
      "cell_type": "raw",
      "source": "(c) Discretization (Binning) on Continuous attributes or Categorical Attributes with too many different \nvalues",
      "metadata": {}
    },
    {
      "id": "535b79c7-b215-42ee-ab27-b4790e0289b9",
      "cell_type": "code",
      "source": "# Example: 5 bins for YearlyIncome\nkbins = KBinsDiscretizer(n_bins=5, encode='ordinal', strategy='quantile')\ndata_selected['YearlyIncome_Binned'] = kbins.fit_transform(data_selected[['YearlyIncome']])\n\n# Example: 3 bins for NumberCarsOwned\nkbins_cars = KBinsDiscretizer(n_bins=3, encode='ordinal', strategy='uniform')\ndata_selected['NumberCarsOwned_Binned'] = kbins_cars.fit_transform(data_selected[['NumberCarsOwned']])\n",
      "metadata": {
        "trusted": true
      },
      "outputs": [],
      "execution_count": 23
    },
    {
      "id": "12ccce9f-7ccc-4717-96be-a7167559baed",
      "cell_type": "raw",
      "source": "(d) Standardization/Normalization ",
      "metadata": {}
    },
    {
      "id": "a123b679-8209-47b1-9398-48aabf774788",
      "cell_type": "code",
      "source": "scaler_std = StandardScaler()\ndata_selected[numeric_features] = scaler_std.fit_transform(data_selected[numeric_features])",
      "metadata": {
        "trusted": true
      },
      "outputs": [],
      "execution_count": 24
    },
    {
      "id": "9c4d8589-dfa5-4046-890d-c2e2e11a5bb2",
      "cell_type": "raw",
      "source": "(e) Binarization (One Hot Encoding)",
      "metadata": {}
    },
    {
      "id": "9ff5f5eb-a062-4ba5-84df-73f42550634b",
      "cell_type": "code",
      "source": "# One-Hot Encode categorical columns\ncategorical_cols = ['City', 'Education', 'Occupation','MaritalStatus','HomeOwnerFlag']\ndata_final = pd.get_dummies(data_selected, columns=categorical_cols, drop_first=True)  # drop_first avoids dummy variable trap\n",
      "metadata": {
        "trusted": true
      },
      "outputs": [],
      "execution_count": 25
    },
    {
      "id": "c2868c48-5923-49c4-8f8f-cf52dd685002",
      "cell_type": "markdown",
      "source": "Part III: Calculating Proximity /Correlation Analysis of two features",
      "metadata": {}
    },
    {
      "id": "a7ec67b1-d857-45fb-bd31-7e727ddf3e28",
      "cell_type": "raw",
      "source": "(a) Calculate Similarity in Simple Matching, Jaccard Similarity, and Cosine Similarity between two following objects of your transformed input data. ",
      "metadata": {}
    },
    {
      "id": "9dfd22eb-a8d4-4464-beb5-f0b241943e27",
      "cell_type": "code",
      "source": "obj1 = data_final.iloc[0].values  \nobj2 = data_final.iloc[1].values \n",
      "metadata": {
        "trusted": true
      },
      "outputs": [],
      "execution_count": 26
    },
    {
      "id": "7a814ea3-6406-41da-b7eb-971ed61c371f",
      "cell_type": "code",
      "source": "import numpy as np\n\nmatches = np.sum(obj1 == obj2)\ntotal = len(obj1)\nsmc = matches / total\nprint(\"Simple Matching Coefficient:\", smc)\n",
      "metadata": {
        "trusted": true
      },
      "outputs": [
        {
          "name": "stdout",
          "output_type": "stream",
          "text": "Simple Matching Coefficient: 0.9822695035460993\n"
        }
      ],
      "execution_count": 27
    },
    {
      "id": "83d90724-cc0d-421e-922a-8c0edd4a5f3a",
      "cell_type": "code",
      "source": "\nobj1_bin = obj1.astype(bool)\nobj2_bin = obj2.astype(bool)\n\nintersection = np.sum(obj1_bin & obj2_bin)\nunion = np.sum(obj1_bin | obj2_bin)\njaccard = intersection / union\nprint(\"Jaccard Similarity:\", jaccard)\n",
      "metadata": {
        "trusted": true
      },
      "outputs": [
        {
          "name": "stdout",
          "output_type": "stream",
          "text": "Jaccard Similarity: 0.625\n"
        }
      ],
      "execution_count": 28
    },
    {
      "id": "f667c43c-9ddf-43b5-a634-dfda321ba1d2",
      "cell_type": "code",
      "source": "\nobj1_bin = obj1.astype(bool)\nobj2_bin = obj2.astype(bool)\n\nintersection = np.sum(obj1_bin & obj2_bin)\nunion = np.sum(obj1_bin | obj2_bin)\njaccard = intersection / union\nprint(\"Jaccard Similarity:\", jaccard)\n",
      "metadata": {
        "trusted": true
      },
      "outputs": [
        {
          "name": "stdout",
          "output_type": "stream",
          "text": "Jaccard Similarity: 0.625\n"
        }
      ],
      "execution_count": 29
    },
    {
      "id": "96956fb0-bea6-4c03-962b-e9ca9588940e",
      "cell_type": "code",
      "source": "print(data_final.columns)",
      "metadata": {
        "trusted": true
      },
      "outputs": [
        {
          "name": "stdout",
          "output_type": "stream",
          "text": "Index(['NumberCarsOwned', 'YearlyIncome', 'YearlyIncome_Binned',\n       'NumberCarsOwned_Binned', 'City_Baltimore', 'City_Barstow',\n       'City_Basingstoke Hants', 'City_Baytown', 'City_Beaverton',\n       'City_Bell Gardens',\n       ...\n       'Education_Graduate Degree', 'Education_High School',\n       'Education_Partial College', 'Education_Partial High School',\n       'Occupation_Management', 'Occupation_Manual', 'Occupation_Professional',\n       'Occupation_Skilled Manual', 'MaritalStatus_S', 'HomeOwnerFlag_1'],\n      dtype='object', length=282)\n"
        }
      ],
      "execution_count": 30
    },
    {
      "id": "d5e00154-5472-4bce-91af-9d737caff505",
      "cell_type": "code",
      "source": "x = data_final['NumberCarsOwned']\ny = data_final['YearlyIncome']\n\ncorr = x.corr(y)\nprint(\"Pearson Correlation:\", corr)\n",
      "metadata": {
        "trusted": true
      },
      "outputs": [
        {
          "name": "stdout",
          "output_type": "stream",
          "text": "Pearson Correlation: 0.4773001523631844\n"
        }
      ],
      "execution_count": 32
    },
    {
      "id": "92d47ebd-1d61-4999-b7f5-56a963308266",
      "cell_type": "code",
      "source": "",
      "metadata": {
        "trusted": true
      },
      "outputs": [],
      "execution_count": null
    }
  ]
}